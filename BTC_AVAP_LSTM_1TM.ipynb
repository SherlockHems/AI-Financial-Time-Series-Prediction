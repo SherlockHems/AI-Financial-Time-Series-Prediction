{
  "nbformat": 4,
  "nbformat_minor": 0,
  "metadata": {
    "colab": {
      "provenance": [],
      "authorship_tag": "ABX9TyN83IT5YKIfh+RG+lNj3mi+",
      "include_colab_link": true
    },
    "kernelspec": {
      "name": "python3",
      "display_name": "Python 3"
    },
    "language_info": {
      "name": "python"
    }
  },
  "cells": [
    {
      "cell_type": "markdown",
      "metadata": {
        "id": "view-in-github",
        "colab_type": "text"
      },
      "source": [
        "<a href=\"https://colab.research.google.com/github/SherlockHems/AI-Financial-Time-Series-Prediction/blob/main/BTC_AVAP_LSTM_1TM.ipynb\" target=\"_parent\"><img src=\"https://colab.research.google.com/assets/colab-badge.svg\" alt=\"Open In Colab\"/></a>"
      ]
    },
    {
      "cell_type": "markdown",
      "source": [
        "# 手搓AI股价预测模型-从入门到入街\n",
        "## 黑铁段位：LSTM单变量单步长+单步长roll预测篇\n",
        "### 问题描述：BTC未来价格预测（0 Order Difference）\n",
        "### 使用模型：Simple LSTM"
      ],
      "metadata": {
        "id": "DPXAJPgOg49f"
      }
    },
    {
      "cell_type": "code",
      "execution_count": 28,
      "metadata": {
        "id": "tWHrAWnUDpo2"
      },
      "outputs": [],
      "source": [
        "# 导入tensorflow\n",
        "import tensorflow as tf\n",
        "# 导入tensorflow.keras\n",
        "from tensorflow.keras.layers import Input, LSTM, Dense\n",
        "from tensorflow.keras.models import Model\n",
        "from tensorflow.keras.optimizers import Adam\n",
        "# 导入数据科学三件套\n",
        "import numpy as np\n",
        "import pandas as pd\n",
        "import matplotlib.pyplot as plt\n",
        "# 导入sklearn的scaler\n",
        "from sklearn.preprocessing import StandardScaler\n",
        "from sklearn.preprocessing import MinMaxScaler"
      ]
    },
    {
      "cell_type": "markdown",
      "source": [
        "### 数据处理"
      ],
      "metadata": {
        "id": "ecKshN9FiNKK"
      }
    },
    {
      "cell_type": "code",
      "source": [
        "# 导入数据\n",
        "series_unscaled_unsplit =  pd.read_csv('BTC_AVAP_1TM.csv')\n",
        "# 检查格式\n",
        "series_unscaled_unsplit.head()"
      ],
      "metadata": {
        "id": "BRyPjkOjEUxA"
      },
      "execution_count": null,
      "outputs": []
    },
    {
      "cell_type": "code",
      "source": [
        "# 去除标题和日期\n",
        "series_unscaled = series_unscaled_unsplit.iloc[:,1:].values\n",
        "series_unscaled.shape"
      ],
      "metadata": {
        "colab": {
          "base_uri": "https://localhost:8080/"
        },
        "id": "E3LbXTFy9mAj",
        "outputId": "2936dc44-30b9-46f9-866a-919ba48fe8b0"
      },
      "execution_count": 30,
      "outputs": [
        {
          "output_type": "execute_result",
          "data": {
            "text/plain": [
              "(4230, 1)"
            ]
          },
          "metadata": {},
          "execution_count": 30
        }
      ]
    },
    {
      "cell_type": "code",
      "source": [
        "# 检查未标准化前的数据格式\n",
        "df = pd.DataFrame(series_unscaled)\n",
        "df.head()"
      ],
      "metadata": {
        "id": "3kMUC7pVEXut"
      },
      "execution_count": null,
      "outputs": []
    },
    {
      "cell_type": "code",
      "source": [
        "df = pd.DataFrame(series_unscaled)\n",
        "df.tail()"
      ],
      "metadata": {
        "id": "U9j-4CHVjJZu"
      },
      "execution_count": null,
      "outputs": []
    },
    {
      "cell_type": "code",
      "source": [
        "# 数据标准化\n",
        "sc   = MinMaxScaler( feature_range=(0,1) )\n",
        "series = np.zeros((series_unscaled.shape[0],series_unscaled.shape[1]))\n",
        "# 给每一列单独标准化\n",
        "series = sc.fit_transform(series_unscaled)\n",
        "# 检查标准化后的数据格式\n",
        "df = pd.DataFrame(series)\n",
        "df.tail()"
      ],
      "metadata": {
        "id": "T-5K_B8cEY5K"
      },
      "execution_count": null,
      "outputs": []
    },
    {
      "cell_type": "markdown",
      "source": [
        "### 模型建立"
      ],
      "metadata": {
        "id": "00eWDEX0AzcJ"
      }
    },
    {
      "cell_type": "code",
      "source": [
        "# 创建输入数组\n",
        "n_timesteps = 50\n",
        "n_features  = series.shape[1]\n",
        "X = []\n",
        "Y = []\n",
        "for date in range(series.shape[0] - n_timesteps):\n",
        "  x = series[date : date + n_timesteps]\n",
        "  X.append(x)\n",
        "  y = series[date + n_timesteps]\n",
        "  Y.append(y)"
      ],
      "metadata": {
        "id": "HL-f_keiEb97"
      },
      "execution_count": 37,
      "outputs": []
    },
    {
      "cell_type": "code",
      "source": [
        "# 转换数组的格式并检查shape\n",
        "n_sample = len(X)\n",
        "X = np.array(X).reshape(n_sample, n_timesteps, n_features) # 输入的数据必须为 n_sample, n_timesteps, n_features 格式\n",
        "Y = np.array(Y)\n",
        "print(\"X.shape\", X.shape, \"Y.shape\", Y.shape)"
      ],
      "metadata": {
        "id": "WfFEEntOEdQN",
        "colab": {
          "base_uri": "https://localhost:8080/"
        },
        "outputId": "7b75ffcd-3eee-4dbd-b53b-a3920547d864"
      },
      "execution_count": 38,
      "outputs": [
        {
          "output_type": "stream",
          "name": "stdout",
          "text": [
            "X.shape (4180, 50, 1) Y.shape (4180, 1)\n"
          ]
        }
      ]
    },
    {
      "cell_type": "code",
      "source": [
        "# 建立一个简单的单层LSTM\n",
        "n_input = Input( shape= (n_timesteps, n_features) )\n",
        "# x = LSTM(64,return_sequences=True,dropout=0.1)(i)\n",
        "# x = LSTM(64,dropout=0.1)(i)\n",
        "x = LSTM(64,dropout=0.1)(n_input)\n",
        "x = Dense(1)(x)\n",
        "model = Model(n_input,x)\n",
        "model.compile(\n",
        "  loss='mse',\n",
        "  optimizer=Adam(learning_rate=0.01),\n",
        ")"
      ],
      "metadata": {
        "id": "gYuqIA4MEfQG"
      },
      "execution_count": 39,
      "outputs": []
    },
    {
      "cell_type": "markdown",
      "source": [
        "### 训练模型"
      ],
      "metadata": {
        "id": "CyaJG1Uqb_3o"
      }
    },
    {
      "cell_type": "code",
      "source": [
        "# 训练模型\n",
        "r = model.fit(\n",
        "  X[:-n_sample//4], Y[:-n_sample//4],\n",
        "  epochs=50,\n",
        "  validation_data=(X[-n_sample//4:], Y[-n_sample//4:]),\n",
        ")"
      ],
      "metadata": {
        "id": "l6z4pxsnLzOG"
      },
      "execution_count": null,
      "outputs": []
    },
    {
      "cell_type": "markdown",
      "source": [
        "### 检查结果"
      ],
      "metadata": {
        "id": "M2Ea0Gk-cDJG"
      }
    },
    {
      "cell_type": "code",
      "source": [
        "# 损失曲线\n",
        "import matplotlib.pyplot as plt\n",
        "plt.plot(r.history['loss'], label='loss')\n",
        "plt.plot(r.history['val_loss'], label='val_loss')\n",
        "plt.legend()"
      ],
      "metadata": {
        "id": "WbDSv5CuEg8g"
      },
      "execution_count": null,
      "outputs": []
    },
    {
      "cell_type": "code",
      "source": [
        "# 单步预测\n",
        "outputs = model.predict(X)\n",
        "print(outputs.shape)\n",
        "predictions = outputs[:,0]\n",
        "\n",
        "plt.plot(Y, label='targets')\n",
        "plt.plot(predictions, label='predictions')\n",
        "plt.legend()\n",
        "plt.show()"
      ],
      "metadata": {
        "id": "eHt1SvfMEiVp"
      },
      "execution_count": null,
      "outputs": []
    },
    {
      "cell_type": "code",
      "source": [
        "# 多步预测\n",
        "validation_target = Y[-n_sample//4:]\n",
        "validation_predictions = []\n",
        "\n",
        "# 第一个input\n",
        "last_x = X[-n_sample//4]\n",
        "\n",
        "while len(validation_predictions) < len(validation_target):\n",
        "  p = model.predict(last_x.reshape(1, n_timesteps, 1))[0,0] # 1x1 array -> 散数\n",
        "\n",
        "  # 将结果加到预测结果数列中\n",
        "  validation_predictions.append(p)\n",
        "\n",
        "  # 作为新的input\n",
        "  last_x = np.roll(last_x, -1)\n",
        "  last_x[-1] = p\n",
        "\n",
        "plt.plot(validation_target, label='forecast target')\n",
        "plt.plot(validation_predictions, label='forecast prediction')\n",
        "plt.legend()"
      ],
      "metadata": {
        "id": "gszKpIK6Ej_l"
      },
      "execution_count": null,
      "outputs": []
    }
  ]
}